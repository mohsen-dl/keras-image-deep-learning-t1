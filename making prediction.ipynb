{
 "cells": [
  {
   "cell_type": "code",
   "execution_count": 14,
   "id": "108afad7",
   "metadata": {},
   "outputs": [],
   "source": [
    "from keras.models import model_from_json\n",
    "from pathlib import Path\n",
    "from keras.utils import load_img\n",
    "from keras.preprocessing import image\n",
    "import numpy as np"
   ]
  },
  {
   "cell_type": "markdown",
   "id": "9bafb9a3",
   "metadata": {},
   "source": [
    "#### cifar class labels"
   ]
  },
  {
   "cell_type": "code",
   "execution_count": 15,
   "id": "839a994e",
   "metadata": {},
   "outputs": [],
   "source": [
    "class_labels = [\n",
    "    \"Plane\",\n",
    "    \"Car\",\n",
    "    \"Bird\",\n",
    "    \"Cat\",\n",
    "    \"Deer\",\n",
    "    \"Dog\",\n",
    "    \"Frog\",\n",
    "    \"Horse\",\n",
    "    \"Boat\",\n",
    "    \"Truck\"\n",
    "]"
   ]
  },
  {
   "cell_type": "markdown",
   "id": "ec42065c",
   "metadata": {},
   "source": [
    "#### load model structure json file"
   ]
  },
  {
   "cell_type": "code",
   "execution_count": 16,
   "id": "6cfd38c7",
   "metadata": {},
   "outputs": [],
   "source": [
    "f = Path('model_structure.json')\n",
    "model_structure = f.read_text()"
   ]
  },
  {
   "cell_type": "markdown",
   "id": "1fcf5658",
   "metadata": {},
   "source": [
    "#### recreate keras model"
   ]
  },
  {
   "cell_type": "code",
   "execution_count": 17,
   "id": "5a0642e2",
   "metadata": {
    "scrolled": true
   },
   "outputs": [],
   "source": [
    "model = model_from_json(model_structure)"
   ]
  },
  {
   "cell_type": "markdown",
   "id": "75c0981f",
   "metadata": {},
   "source": [
    "#### load trained model weights"
   ]
  },
  {
   "cell_type": "code",
   "execution_count": 18,
   "id": "8fd487e0",
   "metadata": {},
   "outputs": [],
   "source": [
    "model.load_weights('model_weights.h5')"
   ]
  },
  {
   "cell_type": "markdown",
   "id": "782e5874",
   "metadata": {},
   "source": [
    "#### load test image"
   ]
  },
  {
   "cell_type": "code",
   "execution_count": 19,
   "id": "435b89b5",
   "metadata": {},
   "outputs": [],
   "source": [
    "img = load_img('cat.png', target_size=(32,32))"
   ]
  },
  {
   "cell_type": "markdown",
   "id": "33bdf165",
   "metadata": {},
   "source": [
    "#### convert image to numpy array"
   ]
  },
  {
   "cell_type": "code",
   "execution_count": 20,
   "id": "4464a37b",
   "metadata": {},
   "outputs": [],
   "source": [
    "image_to_test = image.image_utils.img_to_array(img)"
   ]
  },
  {
   "cell_type": "markdown",
   "id": "f9c27994",
   "metadata": {},
   "source": [
    "#### create list of images"
   ]
  },
  {
   "cell_type": "code",
   "execution_count": 21,
   "id": "d69800fc",
   "metadata": {},
   "outputs": [],
   "source": [
    "list_of_images = np.expand_dims(image_to_test, axis=0)"
   ]
  },
  {
   "cell_type": "markdown",
   "id": "38a1b811",
   "metadata": {},
   "source": [
    "#### make a prediction"
   ]
  },
  {
   "cell_type": "code",
   "execution_count": 22,
   "id": "50ca2a75",
   "metadata": {},
   "outputs": [
    {
     "name": "stdout",
     "output_type": "stream",
     "text": [
      "1/1 [==============================] - 0s 80ms/step\n"
     ]
    }
   ],
   "source": [
    "results = model.predict(list_of_images)"
   ]
  },
  {
   "cell_type": "markdown",
   "id": "147731d3",
   "metadata": {},
   "source": [
    "#### retrieve first result"
   ]
  },
  {
   "cell_type": "code",
   "execution_count": 23,
   "id": "97ee8b4a",
   "metadata": {},
   "outputs": [],
   "source": [
    "single_result = results[0]"
   ]
  },
  {
   "cell_type": "markdown",
   "id": "18262c3f",
   "metadata": {},
   "source": [
    "#### show the highest score"
   ]
  },
  {
   "cell_type": "code",
   "execution_count": 24,
   "id": "f0273452",
   "metadata": {},
   "outputs": [],
   "source": [
    "most_likely_class_index = int(np.argmax(single_result))\n",
    "class_likelyhood = single_result[most_likely_class_index]"
   ]
  },
  {
   "cell_type": "markdown",
   "id": "0ab74bf4",
   "metadata": {},
   "source": [
    "#### get name of the most likelyhood class"
   ]
  },
  {
   "cell_type": "code",
   "execution_count": 25,
   "id": "b0381ce8",
   "metadata": {},
   "outputs": [],
   "source": [
    "class_label = class_labels[most_likely_class_index]"
   ]
  },
  {
   "cell_type": "markdown",
   "id": "57c49b89",
   "metadata": {},
   "source": [
    "#### print the results"
   ]
  },
  {
   "cell_type": "code",
   "execution_count": 26,
   "id": "7ccffa54",
   "metadata": {},
   "outputs": [
    {
     "name": "stdout",
     "output_type": "stream",
     "text": [
      "this image is a Cat - likelyhood: 1.000000\n"
     ]
    }
   ],
   "source": [
    "print('this image is a {} - likelyhood: {:2f}'.format(class_label, class_likelyhood))"
   ]
  }
 ],
 "metadata": {
  "kernelspec": {
   "display_name": "Python 3 (ipykernel)",
   "language": "python",
   "name": "python3"
  },
  "language_info": {
   "codemirror_mode": {
    "name": "ipython",
    "version": 3
   },
   "file_extension": ".py",
   "mimetype": "text/x-python",
   "name": "python",
   "nbconvert_exporter": "python",
   "pygments_lexer": "ipython3",
   "version": "3.10.6"
  }
 },
 "nbformat": 4,
 "nbformat_minor": 5
}
