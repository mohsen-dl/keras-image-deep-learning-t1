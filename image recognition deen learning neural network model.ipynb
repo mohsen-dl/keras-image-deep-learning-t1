{
 "cells": [
  {
   "cell_type": "code",
   "execution_count": 1,
   "id": "23f05b66",
   "metadata": {},
   "outputs": [
    {
     "name": "stderr",
     "output_type": "stream",
     "text": [
      "2023-01-10 21:20:38.185194: W tensorflow/compiler/xla/stream_executor/platform/default/dso_loader.cc:64] Could not load dynamic library 'libcudart.so.11.0'; dlerror: libcudart.so.11.0: cannot open shared object file: No such file or directory\n",
      "2023-01-10 21:20:38.185218: I tensorflow/compiler/xla/stream_executor/cuda/cudart_stub.cc:29] Ignore above cudart dlerror if you do not have a GPU set up on your machine.\n",
      "2023-01-10 21:20:39.860238: W tensorflow/compiler/xla/stream_executor/platform/default/dso_loader.cc:64] Could not load dynamic library 'libnvinfer.so.7'; dlerror: libnvinfer.so.7: cannot open shared object file: No such file or directory\n",
      "2023-01-10 21:20:39.860394: W tensorflow/compiler/xla/stream_executor/platform/default/dso_loader.cc:64] Could not load dynamic library 'libnvinfer_plugin.so.7'; dlerror: libnvinfer_plugin.so.7: cannot open shared object file: No such file or directory\n",
      "2023-01-10 21:20:39.860405: W tensorflow/compiler/tf2tensorrt/utils/py_utils.cc:38] TF-TRT Warning: Cannot dlopen some TensorRT libraries. If you would like to use Nvidia GPU with TensorRT, please make sure the missing libraries mentioned above are installed properly.\n"
     ]
    }
   ],
   "source": [
    "import keras\n",
    "from keras.datasets import cifar10\n",
    "from keras.models import Sequential\n",
    "from keras.layers import Dense, Dropout, Flatten, Conv2D, MaxPooling2D\n",
    "from pathlib import Path"
   ]
  },
  {
   "cell_type": "markdown",
   "id": "5d8edeb2",
   "metadata": {},
   "source": [
    "#### load data set"
   ]
  },
  {
   "cell_type": "code",
   "execution_count": 2,
   "id": "ad3653b6",
   "metadata": {},
   "outputs": [],
   "source": [
    "(x_train, y_train), (x_test, y_test) = cifar10.load_data()"
   ]
  },
  {
   "cell_type": "markdown",
   "id": "be85b304",
   "metadata": {},
   "source": [
    "#### normalize data set to 0-1 range"
   ]
  },
  {
   "cell_type": "code",
   "execution_count": 3,
   "id": "ee03116d",
   "metadata": {},
   "outputs": [],
   "source": [
    "x_train = x_train.astype('float32')/255\n",
    "x_test = x_test.astype('float32')//255"
   ]
  },
  {
   "cell_type": "markdown",
   "id": "f2e9df8b",
   "metadata": {},
   "source": [
    "#### convert class vectors to binary class matrices"
   ]
  },
  {
   "cell_type": "code",
   "execution_count": 4,
   "id": "68f2eaf6",
   "metadata": {},
   "outputs": [],
   "source": [
    "y_train = keras.utils.to_categorical(y_train, 10)\n",
    "y_test = keras.utils.to_categorical(y_test, 10)"
   ]
  },
  {
   "cell_type": "markdown",
   "id": "836ca30a",
   "metadata": {},
   "source": [
    "#### create sequential model and add layers"
   ]
  },
  {
   "cell_type": "code",
   "execution_count": 5,
   "id": "1a304d33",
   "metadata": {},
   "outputs": [
    {
     "name": "stderr",
     "output_type": "stream",
     "text": [
      "2023-01-10 21:20:43.737317: I tensorflow/compiler/xla/stream_executor/cuda/cuda_gpu_executor.cc:981] successful NUMA node read from SysFS had negative value (-1), but there must be at least one NUMA node, so returning NUMA node zero\n",
      "2023-01-10 21:20:43.737980: W tensorflow/compiler/xla/stream_executor/platform/default/dso_loader.cc:64] Could not load dynamic library 'libcudart.so.11.0'; dlerror: libcudart.so.11.0: cannot open shared object file: No such file or directory\n",
      "2023-01-10 21:20:43.738302: W tensorflow/compiler/xla/stream_executor/platform/default/dso_loader.cc:64] Could not load dynamic library 'libcublas.so.11'; dlerror: libcublas.so.11: cannot open shared object file: No such file or directory\n",
      "2023-01-10 21:20:43.738374: W tensorflow/compiler/xla/stream_executor/platform/default/dso_loader.cc:64] Could not load dynamic library 'libcublasLt.so.11'; dlerror: libcublasLt.so.11: cannot open shared object file: No such file or directory\n",
      "2023-01-10 21:20:43.738646: W tensorflow/compiler/xla/stream_executor/platform/default/dso_loader.cc:64] Could not load dynamic library 'libcufft.so.10'; dlerror: libcufft.so.10: cannot open shared object file: No such file or directory\n",
      "2023-01-10 21:20:43.738715: W tensorflow/compiler/xla/stream_executor/platform/default/dso_loader.cc:64] Could not load dynamic library 'libcurand.so.10'; dlerror: libcurand.so.10: cannot open shared object file: No such file or directory\n",
      "2023-01-10 21:20:43.738781: W tensorflow/compiler/xla/stream_executor/platform/default/dso_loader.cc:64] Could not load dynamic library 'libcusolver.so.11'; dlerror: libcusolver.so.11: cannot open shared object file: No such file or directory\n",
      "2023-01-10 21:20:43.738848: W tensorflow/compiler/xla/stream_executor/platform/default/dso_loader.cc:64] Could not load dynamic library 'libcusparse.so.11'; dlerror: libcusparse.so.11: cannot open shared object file: No such file or directory\n",
      "2023-01-10 21:20:43.739112: W tensorflow/compiler/xla/stream_executor/platform/default/dso_loader.cc:64] Could not load dynamic library 'libcudnn.so.8'; dlerror: libcudnn.so.8: cannot open shared object file: No such file or directory\n",
      "2023-01-10 21:20:43.739125: W tensorflow/core/common_runtime/gpu/gpu_device.cc:1934] Cannot dlopen some GPU libraries. Please make sure the missing libraries mentioned above are installed properly if you would like to use GPU. Follow the guide at https://www.tensorflow.org/install/gpu for how to download and setup the required libraries for your platform.\n",
      "Skipping registering GPU devices...\n"
     ]
    }
   ],
   "source": [
    "model = Sequential()"
   ]
  },
  {
   "cell_type": "code",
   "execution_count": 6,
   "id": "f0292cc0",
   "metadata": {},
   "outputs": [],
   "source": [
    "model.add(Conv2D(32, (3,3), padding='same', input_shape = (32,32,3), activation = 'relu'))\n",
    "model.add(Conv2D(32, (3,3), activation='relu'))\n",
    "model.add(MaxPooling2D(pool_size=(2,2)))\n",
    "model.add(Dropout(0.25))\n",
    "\n",
    "model.add(Conv2D(64, (3,3), padding='same',activation='relu'))\n",
    "model.add(Conv2D(64, (3,3),activation='relu'))\n",
    "model.add(MaxPooling2D(pool_size=(2,2)))\n",
    "model.add(Dropout(0.25))\n",
    "\n",
    "model.add(Flatten())\n",
    "model.add(Dense(512, activation='relu'))\n",
    "model.add(Dropout(0.5))\n",
    "model.add(Dense(10, activation='softmax'))"
   ]
  },
  {
   "cell_type": "markdown",
   "id": "bd74e33e",
   "metadata": {},
   "source": [
    "#### compile the model"
   ]
  },
  {
   "cell_type": "code",
   "execution_count": 10,
   "id": "3c2e3b35",
   "metadata": {},
   "outputs": [],
   "source": [
    "model.compile(\n",
    "    loss='binary_crossentropy',\n",
    "    optimizer='adam',\n",
    "    metrics=['accuracy']\n",
    ")"
   ]
  },
  {
   "cell_type": "markdown",
   "id": "a1f61166",
   "metadata": {},
   "source": [
    "#### print model summary"
   ]
  },
  {
   "cell_type": "code",
   "execution_count": 11,
   "id": "a41a3315",
   "metadata": {
    "scrolled": true
   },
   "outputs": [
    {
     "name": "stdout",
     "output_type": "stream",
     "text": [
      "Model: \"sequential\"\n",
      "_________________________________________________________________\n",
      " Layer (type)                Output Shape              Param #   \n",
      "=================================================================\n",
      " conv2d (Conv2D)             (None, 32, 32, 32)        896       \n",
      "                                                                 \n",
      " conv2d_1 (Conv2D)           (None, 30, 30, 32)        9248      \n",
      "                                                                 \n",
      " max_pooling2d (MaxPooling2D  (None, 15, 15, 32)       0         \n",
      " )                                                               \n",
      "                                                                 \n",
      " dropout (Dropout)           (None, 15, 15, 32)        0         \n",
      "                                                                 \n",
      " conv2d_2 (Conv2D)           (None, 15, 15, 64)        18496     \n",
      "                                                                 \n",
      " conv2d_3 (Conv2D)           (None, 13, 13, 64)        36928     \n",
      "                                                                 \n",
      " max_pooling2d_1 (MaxPooling  (None, 6, 6, 64)         0         \n",
      " 2D)                                                             \n",
      "                                                                 \n",
      " dropout_1 (Dropout)         (None, 6, 6, 64)          0         \n",
      "                                                                 \n",
      " flatten (Flatten)           (None, 2304)              0         \n",
      "                                                                 \n",
      " dense (Dense)               (None, 512)               1180160   \n",
      "                                                                 \n",
      " dropout_2 (Dropout)         (None, 512)               0         \n",
      "                                                                 \n",
      " dense_1 (Dense)             (None, 10)                5130      \n",
      "                                                                 \n",
      "=================================================================\n",
      "Total params: 1,250,858\n",
      "Trainable params: 1,250,858\n",
      "Non-trainable params: 0\n",
      "_________________________________________________________________\n"
     ]
    }
   ],
   "source": [
    "model.summary()"
   ]
  },
  {
   "cell_type": "markdown",
   "id": "3be7d1fb",
   "metadata": {},
   "source": [
    "#### trainn the model"
   ]
  },
  {
   "cell_type": "code",
   "execution_count": 12,
   "id": "9621005c",
   "metadata": {
    "scrolled": true
   },
   "outputs": [
    {
     "name": "stdout",
     "output_type": "stream",
     "text": [
      "Epoch 1/30\n"
     ]
    },
    {
     "name": "stderr",
     "output_type": "stream",
     "text": [
      "2023-01-10 21:21:33.955362: W tensorflow/tsl/framework/cpu_allocator_impl.cc:82] Allocation of 614400000 exceeds 10% of free system memory.\n"
     ]
    },
    {
     "name": "stdout",
     "output_type": "stream",
     "text": [
      "1563/1563 [==============================] - 211s 134ms/step - loss: 0.2396 - accuracy: 0.4316 - val_loss: 0.3841 - val_accuracy: 0.1054\n",
      "Epoch 2/30\n",
      "1563/1563 [==============================] - 210s 134ms/step - loss: 0.1788 - accuracy: 0.6086 - val_loss: 0.3690 - val_accuracy: 0.1110\n",
      "Epoch 3/30\n",
      "1563/1563 [==============================] - 209s 134ms/step - loss: 0.1560 - accuracy: 0.6696 - val_loss: 0.4045 - val_accuracy: 0.1044\n",
      "Epoch 4/30\n",
      "1563/1563 [==============================] - 210s 135ms/step - loss: 0.1420 - accuracy: 0.7041 - val_loss: 0.4066 - val_accuracy: 0.1022\n",
      "Epoch 5/30\n",
      "1563/1563 [==============================] - 209s 134ms/step - loss: 0.1329 - accuracy: 0.7258 - val_loss: 0.4533 - val_accuracy: 0.1221\n",
      "Epoch 6/30\n",
      "1563/1563 [==============================] - 209s 133ms/step - loss: 0.1258 - accuracy: 0.7428 - val_loss: 0.3937 - val_accuracy: 0.1055\n",
      "Epoch 7/30\n",
      "1563/1563 [==============================] - 207s 133ms/step - loss: 0.1199 - accuracy: 0.7566 - val_loss: 0.4010 - val_accuracy: 0.1035\n",
      "Epoch 8/30\n",
      "1563/1563 [==============================] - 210s 134ms/step - loss: 0.1151 - accuracy: 0.7674 - val_loss: 0.4152 - val_accuracy: 0.1022\n",
      "Epoch 9/30\n",
      "1563/1563 [==============================] - 209s 134ms/step - loss: 0.1104 - accuracy: 0.7780 - val_loss: 0.4268 - val_accuracy: 0.1026\n",
      "Epoch 10/30\n",
      "1563/1563 [==============================] - 208s 133ms/step - loss: 0.1065 - accuracy: 0.7867 - val_loss: 0.4338 - val_accuracy: 0.1077\n",
      "Epoch 11/30\n",
      "1563/1563 [==============================] - 207s 133ms/step - loss: 0.1033 - accuracy: 0.7966 - val_loss: 0.4425 - val_accuracy: 0.1069\n",
      "Epoch 12/30\n",
      "1563/1563 [==============================] - 208s 133ms/step - loss: 0.1010 - accuracy: 0.8020 - val_loss: 0.5995 - val_accuracy: 0.1200\n",
      "Epoch 13/30\n",
      "1563/1563 [==============================] - 207s 133ms/step - loss: 0.0978 - accuracy: 0.8078 - val_loss: 0.6390 - val_accuracy: 0.1217\n",
      "Epoch 14/30\n",
      "1563/1563 [==============================] - 209s 134ms/step - loss: 0.0960 - accuracy: 0.8120 - val_loss: 0.5602 - val_accuracy: 0.1228\n",
      "Epoch 15/30\n",
      "1563/1563 [==============================] - 208s 133ms/step - loss: 0.0920 - accuracy: 0.8203 - val_loss: 0.4569 - val_accuracy: 0.1028\n",
      "Epoch 16/30\n",
      "1563/1563 [==============================] - 207s 133ms/step - loss: 0.0907 - accuracy: 0.8236 - val_loss: 0.5914 - val_accuracy: 0.1048\n",
      "Epoch 17/30\n",
      "1563/1563 [==============================] - 209s 134ms/step - loss: 0.0893 - accuracy: 0.8271 - val_loss: 0.9038 - val_accuracy: 0.1209\n",
      "Epoch 18/30\n",
      "1563/1563 [==============================] - 210s 135ms/step - loss: 0.0877 - accuracy: 0.8310 - val_loss: 0.8652 - val_accuracy: 0.1190\n",
      "Epoch 19/30\n",
      "1563/1563 [==============================] - 212s 135ms/step - loss: 0.0863 - accuracy: 0.8338 - val_loss: 0.6550 - val_accuracy: 0.1067\n",
      "Epoch 20/30\n",
      "1563/1563 [==============================] - 209s 134ms/step - loss: 0.0846 - accuracy: 0.8382 - val_loss: 0.6831 - val_accuracy: 0.1054\n",
      "Epoch 21/30\n",
      "1563/1563 [==============================] - 209s 134ms/step - loss: 0.0835 - accuracy: 0.8415 - val_loss: 0.9911 - val_accuracy: 0.1065\n",
      "Epoch 22/30\n",
      "1563/1563 [==============================] - 209s 134ms/step - loss: 0.0816 - accuracy: 0.8443 - val_loss: 1.1107 - val_accuracy: 0.1197\n",
      "Epoch 23/30\n",
      "1563/1563 [==============================] - 209s 134ms/step - loss: 0.0811 - accuracy: 0.8486 - val_loss: 0.8165 - val_accuracy: 0.1066\n",
      "Epoch 24/30\n",
      "1563/1563 [==============================] - 209s 133ms/step - loss: 0.0804 - accuracy: 0.8490 - val_loss: 0.9485 - val_accuracy: 0.1042\n",
      "Epoch 25/30\n",
      "1563/1563 [==============================] - 237s 151ms/step - loss: 0.0780 - accuracy: 0.8539 - val_loss: 0.8855 - val_accuracy: 0.1042\n",
      "Epoch 26/30\n",
      "1563/1563 [==============================] - 235s 151ms/step - loss: 0.0775 - accuracy: 0.8541 - val_loss: 0.7745 - val_accuracy: 0.1020\n",
      "Epoch 27/30\n",
      "1563/1563 [==============================] - 215s 137ms/step - loss: 0.0762 - accuracy: 0.8600 - val_loss: 0.8036 - val_accuracy: 0.1063\n",
      "Epoch 28/30\n",
      "1563/1563 [==============================] - 210s 135ms/step - loss: 0.0748 - accuracy: 0.8602 - val_loss: 0.7875 - val_accuracy: 0.1073\n",
      "Epoch 29/30\n",
      "1563/1563 [==============================] - 212s 136ms/step - loss: 0.0748 - accuracy: 0.8631 - val_loss: 1.0257 - val_accuracy: 0.1229\n",
      "Epoch 30/30\n",
      "1563/1563 [==============================] - 212s 136ms/step - loss: 0.0739 - accuracy: 0.8630 - val_loss: 1.2897 - val_accuracy: 0.1209\n"
     ]
    },
    {
     "data": {
      "text/plain": [
       "<keras.callbacks.History at 0x7f66348c6a40>"
      ]
     },
     "execution_count": 12,
     "metadata": {},
     "output_type": "execute_result"
    }
   ],
   "source": [
    "model.fit(\n",
    "    x_train,\n",
    "    y_train,\n",
    "    batch_size=32,\n",
    "    epochs=30,\n",
    "    validation_data=(x_test,y_test),\n",
    "    shuffle=True\n",
    ")"
   ]
  },
  {
   "cell_type": "markdown",
   "id": "b191f1d5",
   "metadata": {},
   "source": [
    "#### save neural network structure"
   ]
  },
  {
   "cell_type": "code",
   "execution_count": 14,
   "id": "a54e752c",
   "metadata": {},
   "outputs": [
    {
     "data": {
      "text/plain": [
       "4384"
      ]
     },
     "execution_count": 14,
     "metadata": {},
     "output_type": "execute_result"
    }
   ],
   "source": [
    "model_stucture = model.to_json()\n",
    "f = Path('model_structure.json')\n",
    "f.write_text(model_stucture)"
   ]
  },
  {
   "cell_type": "markdown",
   "id": "ef9c59ad",
   "metadata": {},
   "source": [
    "#### save neural network's trained weights"
   ]
  },
  {
   "cell_type": "code",
   "execution_count": 16,
   "id": "e4412f0c",
   "metadata": {},
   "outputs": [],
   "source": [
    "model.save_weights('model_weights.h5')"
   ]
  }
 ],
 "metadata": {
  "kernelspec": {
   "display_name": "Python 3 (ipykernel)",
   "language": "python",
   "name": "python3"
  },
  "language_info": {
   "codemirror_mode": {
    "name": "ipython",
    "version": 3
   },
   "file_extension": ".py",
   "mimetype": "text/x-python",
   "name": "python",
   "nbconvert_exporter": "python",
   "pygments_lexer": "ipython3",
   "version": "3.10.6"
  }
 },
 "nbformat": 4,
 "nbformat_minor": 5
}
